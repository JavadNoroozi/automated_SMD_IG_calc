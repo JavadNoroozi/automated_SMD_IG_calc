{
 "cells": [
  {
   "cell_type": "code",
   "execution_count": 47,
   "metadata": {},
   "outputs": [],
   "source": [
    "import subprocess\n",
    "import sys\n",
    "import os\n",
    "import shutil\n",
    "import rdkit\n",
    "from rdkit import Chem\n",
    "# this is a conformation generation script based on RDKit and Merck Molecular Mechanics that takes SMILES as input\n",
    "import conf_gen"
   ]
  },
  {
   "cell_type": "code",
   "execution_count": 48,
   "metadata": {},
   "outputs": [],
   "source": [
    "\n",
    "\n",
    "def protonate_smiles(neutral_smiles):\n",
    "    protonated_smiles=[]\n",
    "    for smile in neutral_smiles:\n",
    "        # create molecule from SMILES\n",
    "        mol = Chem.MolFromSmiles(smile)\n",
    "        # find index of nitrogen\n",
    "        nIdx = mol.GetSubstructMatch(Chem.MolFromSmarts('N'))\n",
    "        # set the nitrogen atom's formal charge to 1\n",
    "        mol.GetAtomWithIdx(*nIdx).SetFormalCharge(1)\n",
    "        # print the protonated SMILES\n",
    "        protonated_smiles.append(Chem.MolToSmiles(mol))\n",
    "        \n",
    "    return protonated_smiles  \n",
    "\n",
    "\n"
   ]
  },
  {
   "cell_type": "code",
   "execution_count": 49,
   "metadata": {},
   "outputs": [],
   "source": [
    "\n",
    "\"\"\"this function takes a file named by smile string (smile+\"_confs.sdf\") and \n",
    "returns numbers of conformers written to that file\"\"\"\n",
    "\n",
    "def find_num_conformers_in_a_file(smile,keyword):\n",
    "    k=0\n",
    "    with open(smile+\"_confs.sdf\", 'r') as f:\n",
    "        for line in f:\n",
    "            words = line.split()\n",
    "            if keyword in words:\n",
    "                k+=1\n",
    "    return k\n",
    "\n",
    "\n",
    "\n",
    "\n",
    "\"\"\"this function takes a file name smile_confs.sdf and splits them and returns a dictionary of conformer id \n",
    "and energy\"\"\"\n",
    "\n",
    "def conformers_energy(smile):\n",
    "    N_conf=find_num_conformers_in_a_file(smile,\"RDKit\")\n",
    "    lines = open(smile+\"_confs.sdf\", 'r').readlines()\n",
    "    num_of_lines = int(len(lines)/N_conf)\n",
    "    my_list = range(0, len(lines), num_of_lines)\n",
    "    \n",
    "    conf_energy={}\n",
    "    for i, j in enumerate(my_list):\n",
    "        f2 = open(smile+'_c'+str(i+1)+'.sdf', 'w')\n",
    "        for L in range(j, j+num_of_lines):\n",
    "            f2.write(str(lines[L]))\n",
    "            if \"conformer_id\" in lines[L]:\n",
    "                conf_energy[lines[L+1].split()[0]]=lines[L+4].split()[0]\n",
    "        \n",
    "    f2.close()\n",
    "    return conf_energy,min(conf_energy, key=conf_energy.get)"
   ]
  },
  {
   "cell_type": "code",
   "execution_count": 50,
   "metadata": {},
   "outputs": [],
   "source": [
    "def write_gaussian_input(calc_type, inputsmile,charge):\n",
    "    with open(inputsmile + '.com', 'w') as f:\n",
    "        \n",
    "        # one can change multipilicty and CPU, Memory requirement here    \n",
    "        f.write('%NProcShared=4\\n')\n",
    "        f.write('%Mem=30GB\\n')\n",
    "\n",
    "        # write Gaussian input header for IG frequency calculations\n",
    "        if calc_type=='IG_freq':\n",
    "            f.write('#n G4 Opt=tight Freq pressure=0.987 temp=298.15\\n')\n",
    "        elif calc_type=='HFE_continum':\n",
    "            f.write('#n M062X/6-31+G(d,p) Opt=(MaxCyc=250) freq SCF=(MaxCyc=250, Tight) Integral=UltraFine SCRF=(SMD, solvent=water) pressure=0.987 temp=298.15\\n')\n",
    "  \n",
    "        elif calc_type=='HFE_vaccum':\n",
    "            f.write('#n M062X/6-31+G(d,p) Opt=tight Freq pressure=0.987 temp=298.15\\n')\n",
    "        else:\n",
    "            print('select valid calculations')\n",
    "\n",
    "        f.write('\\n')\n",
    "        f.write(inputsmile+'\\n')\n",
    "        f.write('\\n')\n",
    "        f.write(str(charge)+\"  \"+  '1\\n')\n",
    "        # append obabel generated gaussian coordinate section \n",
    "        ID= conformers_energy(inputsmile)[1]  # this is the id of minimum energy conformer\n",
    "        std_out, std_err=subprocess.Popen(['babel', '-isdf', inputsmile+ \"_c\" + ID + '.sdf', '-ocom'], stdout=subprocess.PIPE).communicate()\n",
    "        coords=std_out.decode(\"utf-8\")\n",
    "        f.writelines( \"%s\\n\" % line for line in coords.splitlines()[5:] )\n"
   ]
  },
  {
   "cell_type": "code",
   "execution_count": 64,
   "metadata": {},
   "outputs": [
    {
     "name": "stdout",
     "output_type": "stream",
     "text": [
      "Molecule 1 : generated 99 conformers and 1 clusters\n",
      "Molecule 2 : generated 100 conformers and 1 clusters\n",
      "Molecule 3 : generated 100 conformers and 2 clusters\n",
      "Molecule 1 : generated 99 conformers and 1 clusters\n",
      "Molecule 2 : generated 100 conformers and 1 clusters\n",
      "Molecule 3 : generated 100 conformers and 2 clusters\n"
     ]
    }
   ],
   "source": [
    "neutral_smile_strings=['C(CO)N','C(CO)NCCO','C(CO)N(CCO)CCO']\n",
    "protonate_smile_strings=protonate_smiles(protonate_smile_strings)\n",
    "conf_gen.main(neutral_smile_strings)\n",
    "conf_gen.main(protonate_smile_strings)"
   ]
  },
  {
   "cell_type": "code",
   "execution_count": 65,
   "metadata": {},
   "outputs": [],
   "source": [
    "for i,j in dict(zip(neutral_smile_strings,protonate_smile_strings)).items():\n",
    "    write_gaussian_input('IG_freq', i, 0)\n",
    "    write_gaussian_input('IG_freq', j, 1)\n",
    "\n",
    "os.mkdir('IG_freq')\n",
    "sourcepath=os.getcwd()\n",
    "sourcefiles = os.listdir(sourcepath)\n",
    "destinationpath = os.path.join(sourcepath, 'IG_freq')\n",
    "for file in sourcefiles:\n",
    "    if file.endswith('.com'):\n",
    "        shutil.move(os.path.join(sourcepath,file), os.path.join(destinationpath,file))\n",
    "\n",
    "\n",
    "\n"
   ]
  },
  {
   "cell_type": "code",
   "execution_count": 66,
   "metadata": {},
   "outputs": [],
   "source": [
    "for i,j in dict(zip(neutral_smile_strings,protonate_smile_strings)).items():\n",
    "    write_gaussian_input('HFE_continum', i, 0)\n",
    "    write_gaussian_input('HFE_continum', j, 1)\n",
    "\n",
    "os.mkdir('HFE_continum')\n",
    "sourcepath=os.getcwd()\n",
    "sourcefiles = os.listdir(sourcepath)\n",
    "destinationpath = os.path.join(sourcepath, 'HFE_continum')\n",
    "for file in sourcefiles:\n",
    "    if file.endswith('.com'):\n",
    "        shutil.move(os.path.join(sourcepath,file), os.path.join(destinationpath,file))\n",
    "\n"
   ]
  },
  {
   "cell_type": "code",
   "execution_count": 67,
   "metadata": {},
   "outputs": [],
   "source": [
    "for i,j in dict(zip(neutral_smile_strings,protonate_smile_strings)).items():\n",
    "    write_gaussian_input('HFE_vaccum', i, 0)\n",
    "    write_gaussian_input('HFE_vaccum', j, 1)\n",
    "\n",
    "os.mkdir('HFE_vaccum')\n",
    "sourcepath=os.getcwd()\n",
    "sourcefiles = os.listdir(sourcepath)\n",
    "destinationpath = os.path.join(sourcepath, 'HFE_vaccum')\n",
    "for file in sourcefiles:\n",
    "    if file.endswith('.com'):\n",
    "        shutil.move(os.path.join(sourcepath,file), os.path.join(destinationpath,file))\n",
    "        \n",
    "\n"
   ]
  },
  {
   "cell_type": "code",
   "execution_count": 68,
   "metadata": {},
   "outputs": [],
   "source": [
    "# remove all redundant sdf files in current working directory and only keep Gaussian input files\n",
    "dir_name = os.getcwd()\n",
    "test = os.listdir(dir_name)\n",
    "\n",
    "for item in test:\n",
    "    if item.endswith(\".sdf\"):\n",
    "        os.remove(os.path.join(dir_name, item))\n",
    "    \n",
    "\n",
    "\n",
    "    \n",
    "    \n"
   ]
  },
  {
   "cell_type": "code",
   "execution_count": 56,
   "metadata": {},
   "outputs": [],
   "source": [
    "\n"
   ]
  },
  {
   "cell_type": "code",
   "execution_count": null,
   "metadata": {},
   "outputs": [],
   "source": []
  },
  {
   "cell_type": "code",
   "execution_count": null,
   "metadata": {},
   "outputs": [],
   "source": []
  },
  {
   "cell_type": "code",
   "execution_count": 16,
   "metadata": {},
   "outputs": [],
   "source": []
  },
  {
   "cell_type": "code",
   "execution_count": 38,
   "metadata": {},
   "outputs": [],
   "source": [
    "\n"
   ]
  },
  {
   "cell_type": "code",
   "execution_count": 60,
   "metadata": {},
   "outputs": [],
   "source": [
    "        \n",
    "        "
   ]
  },
  {
   "cell_type": "code",
   "execution_count": 61,
   "metadata": {},
   "outputs": [],
   "source": []
  },
  {
   "cell_type": "code",
   "execution_count": null,
   "metadata": {},
   "outputs": [],
   "source": [
    "\n",
    "    "
   ]
  },
  {
   "cell_type": "code",
   "execution_count": null,
   "metadata": {},
   "outputs": [],
   "source": []
  },
  {
   "cell_type": "code",
   "execution_count": null,
   "metadata": {},
   "outputs": [],
   "source": []
  },
  {
   "cell_type": "code",
   "execution_count": null,
   "metadata": {},
   "outputs": [],
   "source": []
  },
  {
   "cell_type": "code",
   "execution_count": null,
   "metadata": {},
   "outputs": [],
   "source": []
  }
 ],
 "metadata": {
  "kernelspec": {
   "display_name": "Python [conda env:my-rdkit-test] *",
   "language": "python",
   "name": "conda-env-my-rdkit-test-py"
  },
  "language_info": {
   "codemirror_mode": {
    "name": "ipython",
    "version": 3
   },
   "file_extension": ".py",
   "mimetype": "text/x-python",
   "name": "python",
   "nbconvert_exporter": "python",
   "pygments_lexer": "ipython3",
   "version": "3.6.6"
  }
 },
 "nbformat": 4,
 "nbformat_minor": 2
}
